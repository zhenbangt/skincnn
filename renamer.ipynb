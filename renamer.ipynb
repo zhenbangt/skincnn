{
 "cells": [
  {
   "cell_type": "code",
   "execution_count": 1,
   "metadata": {},
   "outputs": [],
   "source": [
    "import os"
   ]
  },
  {
   "cell_type": "code",
   "execution_count": 4,
   "metadata": {},
   "outputs": [
    {
     "data": {
      "text/plain": [
       "<generator object walk at 0x00000232F69D8148>"
      ]
     },
     "execution_count": 4,
     "metadata": {},
     "output_type": "execute_result"
    }
   ],
   "source": [
    "os.walk()"
   ]
  },
  {
   "cell_type": "code",
   "execution_count": 11,
   "metadata": {},
   "outputs": [
    {
     "name": "stdout",
     "output_type": "stream",
     "text": [
      "E:\\Abandoned\\monsterhunterworld\\Player's Custom Guildmarm Costume (Post-IB)-419-2-0-1580141867\\pl\\f_equip\\mod_pl_guildmarm\\f_skin_BM.tex\n",
      "E:\\Abandoned\\monsterhunterworld\\Player's Custom Guildmarm Costume (Post-IB)-419-2-0-1580141867\\pl\\f_equip\\mod_pl_guildmarm\\npc002_010_CMM.tex\n",
      "E:\\Abandoned\\monsterhunterworld\\Player's Custom Guildmarm Costume (Post-IB)-419-2-0-1580141867\\pl\\f_equip\\mod_pl_guildmarm\\npc002_010_CMM_.tex\n",
      "E:\\Abandoned\\monsterhunterworld\\Player's Custom Guildmarm Costume (Post-IB)-419-2-0-1580141867\\pl\\f_equip\\mod_pl_guildmarm\\npc002_011_CMM.tex\n",
      "E:\\Abandoned\\monsterhunterworld\\Player's Custom Guildmarm Costume (Post-IB)-419-2-0-1580141867\\pl\\f_equip\\mod_pl_guildmarm\\npc002_011_CMM_.tex\n",
      "E:\\Abandoned\\monsterhunterworld\\Player's Custom Guildmarm Costume (Post-IB)-419-2-0-1580141867\\pl\\f_equip\\pl076_0000\\arm\\mod\\f_arm076_0000.ctc\n",
      "E:\\Abandoned\\monsterhunterworld\\Player's Custom Guildmarm Costume (Post-IB)-419-2-0-1580141867\\pl\\f_equip\\pl076_0000\\arm\\mod\\f_arm076_0000.mod3\n",
      "E:\\Abandoned\\monsterhunterworld\\Player's Custom Guildmarm Costume (Post-IB)-419-2-0-1580141867\\pl\\f_equip\\pl076_0000\\arm\\mod\\f_arm076_0000.mrl3\n",
      "E:\\Abandoned\\monsterhunterworld\\Player's Custom Guildmarm Costume (Post-IB)-419-2-0-1580141867\\pl\\f_equip\\pl076_0000\\body\\mod\\f_body076_0000.ccl\n",
      "E:\\Abandoned\\monsterhunterworld\\Player's Custom Guildmarm Costume (Post-IB)-419-2-0-1580141867\\pl\\f_equip\\pl076_0000\\body\\mod\\f_body076_0000.ctc\n",
      "E:\\Abandoned\\monsterhunterworld\\Player's Custom Guildmarm Costume (Post-IB)-419-2-0-1580141867\\pl\\f_equip\\pl076_0000\\body\\mod\\f_body076_0000.evbd\n",
      "E:\\Abandoned\\monsterhunterworld\\Player's Custom Guildmarm Costume (Post-IB)-419-2-0-1580141867\\pl\\f_equip\\pl076_0000\\body\\mod\\f_body076_0000.mod3\n",
      "E:\\Abandoned\\monsterhunterworld\\Player's Custom Guildmarm Costume (Post-IB)-419-2-0-1580141867\\pl\\f_equip\\pl076_0000\\body\\mod\\f_body076_0000.mrl3\n",
      "E:\\Abandoned\\monsterhunterworld\\Player's Custom Guildmarm Costume (Post-IB)-419-2-0-1580141867\\pl\\f_equip\\pl076_0000\\helm\\mod\\f_helm076_0000.ccl\n",
      "E:\\Abandoned\\monsterhunterworld\\Player's Custom Guildmarm Costume (Post-IB)-419-2-0-1580141867\\pl\\f_equip\\pl076_0000\\helm\\mod\\f_helm076_0000.ctc\n",
      "E:\\Abandoned\\monsterhunterworld\\Player's Custom Guildmarm Costume (Post-IB)-419-2-0-1580141867\\pl\\f_equip\\pl076_0000\\helm\\mod\\f_helm076_0000.evhl\n",
      "E:\\Abandoned\\monsterhunterworld\\Player's Custom Guildmarm Costume (Post-IB)-419-2-0-1580141867\\pl\\f_equip\\pl076_0000\\helm\\mod\\f_helm076_0000.mod3\n",
      "E:\\Abandoned\\monsterhunterworld\\Player's Custom Guildmarm Costume (Post-IB)-419-2-0-1580141867\\pl\\f_equip\\pl076_0000\\helm\\mod\\f_helm076_0000.mrl3\n",
      "E:\\Abandoned\\monsterhunterworld\\Player's Custom Guildmarm Costume (Post-IB)-419-2-0-1580141867\\pl\\f_equip\\pl076_0000\\helm\\mod\\f_helm076_0000_brigade.evhl\n",
      "E:\\Abandoned\\monsterhunterworld\\Player's Custom Guildmarm Costume (Post-IB)-419-2-0-1580141867\\pl\\f_equip\\pl076_0000\\helm\\mod\\f_helm076_0000_helm_bighatglasses.mod3\n",
      "E:\\Abandoned\\monsterhunterworld\\Player's Custom Guildmarm Costume (Post-IB)-419-2-0-1580141867\\pl\\f_equip\\pl076_0000\\helm\\mod\\f_helm076_0000_helm_bighatonly.mod3\n",
      "E:\\Abandoned\\monsterhunterworld\\Player's Custom Guildmarm Costume (Post-IB)-419-2-0-1580141867\\pl\\f_equip\\pl076_0000\\helm\\mod\\f_helm076_0000_helm_glassesonly.mod3\n",
      "E:\\Abandoned\\monsterhunterworld\\Player's Custom Guildmarm Costume (Post-IB)-419-2-0-1580141867\\pl\\f_equip\\pl076_0000\\helm\\mod\\f_helm076_0000_helm_smallhatglasses.mod3\n",
      "E:\\Abandoned\\monsterhunterworld\\Player's Custom Guildmarm Costume (Post-IB)-419-2-0-1580141867\\pl\\f_equip\\pl076_0000\\helm\\mod\\f_helm076_0000_helm_smallhatonly.mod3\n",
      "E:\\Abandoned\\monsterhunterworld\\Player's Custom Guildmarm Costume (Post-IB)-419-2-0-1580141867\\pl\\f_equip\\pl076_0000\\helm\\mod\\f_helm076_0000_nullall.evhl\n",
      "E:\\Abandoned\\monsterhunterworld\\Player's Custom Guildmarm Costume (Post-IB)-419-2-0-1580141867\\pl\\f_equip\\pl076_0000\\leg\\mod\\f_leg076_0000.ccl\n",
      "E:\\Abandoned\\monsterhunterworld\\Player's Custom Guildmarm Costume (Post-IB)-419-2-0-1580141867\\pl\\f_equip\\pl076_0000\\leg\\mod\\f_leg076_0000.ctc\n",
      "E:\\Abandoned\\monsterhunterworld\\Player's Custom Guildmarm Costume (Post-IB)-419-2-0-1580141867\\pl\\f_equip\\pl076_0000\\leg\\mod\\f_leg076_0000.mod3\n",
      "E:\\Abandoned\\monsterhunterworld\\Player's Custom Guildmarm Costume (Post-IB)-419-2-0-1580141867\\pl\\f_equip\\pl076_0000\\leg\\mod\\f_leg076_0000.mrl3\n",
      "E:\\Abandoned\\monsterhunterworld\\Player's Custom Guildmarm Costume (Post-IB)-419-2-0-1580141867\\pl\\f_equip\\pl076_0000\\wst\\mod\\f_wst076_0000.ccl\n",
      "E:\\Abandoned\\monsterhunterworld\\Player's Custom Guildmarm Costume (Post-IB)-419-2-0-1580141867\\pl\\f_equip\\pl076_0000\\wst\\mod\\f_wst076_0000.ctc\n",
      "E:\\Abandoned\\monsterhunterworld\\Player's Custom Guildmarm Costume (Post-IB)-419-2-0-1580141867\\pl\\f_equip\\pl076_0000\\wst\\mod\\f_wst076_0000.mod3\n",
      "E:\\Abandoned\\monsterhunterworld\\Player's Custom Guildmarm Costume (Post-IB)-419-2-0-1580141867\\pl\\f_equip\\pl076_0000\\wst\\mod\\f_wst076_0000.mrl3\n"
     ]
    }
   ],
   "source": [
    "for root, dirs, files in os.walk(\"E:\\Abandoned\\monsterhunterworld\\Player's Custom Guildmarm Costume (Post-IB)-419-2-0-1580141867\", topdown=True):\n",
    "    for name in files:\n",
    "        new_name = re.sub(\"076_0000\",\"078_0000\",name)\n",
    "        os.rename(os.path.join(root, name), os.path.join(root, new_name))\n",
    "        print(os.path.join(root, name))\n",
    "#     for name in dirs:\n",
    "#         print(os.path.join(root, name))"
   ]
  },
  {
   "cell_type": "code",
   "execution_count": 10,
   "metadata": {},
   "outputs": [
    {
     "data": {
      "text/plain": [
       "'f_wst078_0000.mrl3'"
      ]
     },
     "execution_count": 10,
     "metadata": {},
     "output_type": "execute_result"
    }
   ],
   "source": [
    "import re\n",
    "\n"
   ]
  }
 ],
 "metadata": {
  "kernelspec": {
   "display_name": "Python 3",
   "language": "python",
   "name": "python3"
  },
  "language_info": {
   "codemirror_mode": {
    "name": "ipython",
    "version": 3
   },
   "file_extension": ".py",
   "mimetype": "text/x-python",
   "name": "python",
   "nbconvert_exporter": "python",
   "pygments_lexer": "ipython3",
   "version": "3.7.6"
  }
 },
 "nbformat": 4,
 "nbformat_minor": 2
}
