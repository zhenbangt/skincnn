{
 "cells": [
  {
   "cell_type": "code",
   "execution_count": 1,
   "metadata": {
    "ExecuteTime": {
     "end_time": "2020-02-02T08:01:00.445240Z",
     "start_time": "2020-02-02T08:00:58.351808Z"
    }
   },
   "outputs": [],
   "source": [
    "from __future__ import absolute_import\n",
    "from __future__ import division\n",
    "from __future__ import print_function\n",
    "\n",
    "IMG_WIDTH, IMG_HEIGHT = 224, 224\n",
    "\n",
    "import tensorflow_hub as hub\n",
    "from tensorflow.keras.applications.densenet import (\n",
    "    DenseNet121,\n",
    "    preprocess_input,\n",
    ")\n",
    "import pandas as pd\n",
    "import numpy as np\n",
    "import os\n",
    "import IPython.display as display\n",
    "import tensorflow as tf\n",
    "import tensorflow.keras as keras\n",
    "import matplotlib.pyplot as plt\n",
    "from tensorflow.keras.layers import (\n",
    "    Dense,\n",
    "    GlobalAveragePooling2D,\n",
    "    Conv2D,\n",
    "    Flatten,\n",
    "    GlobalMaxPooling2D,\n",
    "    Dropout,\n",
    "    Activation\n",
    ")\n",
    "\n",
    "from tensorflow.keras.preprocessing import image\n",
    "from tensorflow.keras.preprocessing.image import ImageDataGenerator\n",
    "from tensorflow.keras.models import Model\n",
    "from tensorflow.keras.optimizers import Adam, Nadam\n",
    "from datetime import datetime\n",
    "from packaging import version\n",
    "import tensorflow.keras.backend as K\n",
    "from tensorflow.keras.callbacks import (\n",
    "    TensorBoard,\n",
    "    EarlyStopping,\n",
    "    ModelCheckpoint,\n",
    "    ReduceLROnPlateau,\n",
    ")\n",
    "import efficientnet.tfkeras as enet\n",
    "\n",
    "\n",
    "\n",
    "def append_extension(fn):\n",
    "    return (fn + \".jpg\").zfill(7)\n",
    "\n",
    "\n",
    "def ordered_logit(class_number):\n",
    "    # zero portability\n",
    "    target = np.zeros(4, dtype=int)\n",
    "    target[: class_number - 2] = 1\n",
    "    return target\n",
    "\n",
    "\n",
    "DATADIR = r\"./adult\"\n",
    "CSV_PATH = r\"./adult/CastControls_ALP.xlsx\"\n",
    "response = pd.read_excel(CSV_PATH, sheet_name=0,)[[\"GreenID\", \"Grade\"]].dropna(\n",
    "    axis=0, subset=[\"Grade\"]\n",
    ")\n",
    "response.Grade = response.Grade.astype(\"int\")\n",
    "response.GreenID = response.GreenID.astype(\"str\").apply(append_extension)\n",
    "response = response[response.Grade != 99]\n",
    "response = pd.concat(\n",
    "    [response, pd.DataFrame.from_dict(dict(response.Grade.apply(ordered_logit))).T,],\n",
    "    axis=1,\n",
    ")\n",
    "\n",
    "\n",
    "# shuffle dataset\n",
    "response = response.sample(frac=1)\n",
    "seed = np.random.randint(30027)\n",
    "\n",
    "@tf.function\n",
    "def soft_acc(y_true, y_pred):\n",
    "    return K.mean(K.equal(K.round(y_true), K.round(y_pred)))\n",
    "\n",
    "@tf.function\n",
    "def soft_acc_multi_output(y_true, y_pred):\n",
    "    return K.mean(\n",
    "        K.all(\n",
    "            K.equal(\n",
    "                K.cast(K.round(y_true), \"int32\"), K.cast(K.round(y_pred), \"int32\"),\n",
    "            ),\n",
    "            axis=1,\n",
    "        )\n",
    "    )\n",
    "\n",
    "# policy = tf.keras.mixed_precision.experimental.Policy(\"mixed_float16\")\n",
    "# mixed_precision.experimental.set_policy(policy)\n",
    "\n",
    "# gpus = tf.config.experimental.list_physical_devices(\"GPU\")\n",
    "# if gpus:\n",
    "#     try:\n",
    "#         # Currently, memory growth needs to be the same across GPUs\n",
    "#         for gpu in gpus:\n",
    "#             tf.config.experimental.set_memory_growth(gpu, True)\n",
    "#         logical_gpus = tf.config.experimental.list_logical_devices(\"GPU\")\n",
    "# #         print(\n",
    "# #             len(gpus), \"Physical GPUs,\", len(logical_gpus), \"Logical GPUs\",\n",
    "# #         )\n",
    "#     except RuntimeError as e:\n",
    "#         # Memory growth must be set before GPUs have been initialized\n",
    "#         print(e)"
   ]
  },
  {
   "cell_type": "code",
   "execution_count": null,
   "metadata": {
    "jupyter": {
     "source_hidden": true
    }
   },
   "outputs": [],
   "source": [
    "# data_gen = ImageDataGenerator(\n",
    "#     rotation_range=5,\n",
    "#     fill_mode='reflect',\n",
    "#     horizontal_flip=True,\n",
    "# #     vertical_flip=True,\n",
    "#     validation_split=0.1,\n",
    "#     rescale=1. / 255.,\n",
    "# #     preprocessing_function = preprocess_input\n",
    "#     zoom_range = 0.1\n",
    "# )\n",
    "\n",
    "# train_set = data_gen.flow_from_dataframe(\n",
    "#     dataframe=response,\n",
    "#     directory=DATADIR,\n",
    "#     x_col=\"GreenID\",\n",
    "#     y_col=\"Grade\",\n",
    "#     target_size=(224,224),\n",
    "#     color_mode='rgb',\n",
    "#     class_mode='raw',\n",
    "#     subset = \"training\",\n",
    "#     shuffle=True,\n",
    "# #     class_mode = \"sparse\"\n",
    "# )\n",
    "\n",
    "# validation_set = data_gen.flow_from_dataframe(\n",
    "#     dataframe=response,\n",
    "#     directory=DATADIR,\n",
    "#     x_col=\"GreenID\",\n",
    "#     y_col=\"Grade\",\n",
    "#     target_size=(224,224),\n",
    "#     color_mode='rgb',\n",
    "#     batch_size = 28,\n",
    "#     class_mode='raw',\n",
    "#     subset = \"validation\",\n",
    "#     shuffle=True,\n",
    "# #     class_mode = \"sparse\"\n",
    "# )"
   ]
  },
  {
   "cell_type": "code",
   "execution_count": 3,
   "metadata": {
    "ExecuteTime": {
     "end_time": "2020-02-02T08:01:12.865686Z",
     "start_time": "2020-02-02T08:01:08.228017Z"
    },
    "collapsed": true,
    "jupyter": {
     "outputs_hidden": true,
     "source_hidden": true
    }
   },
   "outputs": [
    {
     "name": "stdout",
     "output_type": "stream",
     "text": [
      "WARNING:tensorflow:Large dropout rate: 0.8 (>0.5). In TensorFlow 2.x, dropout() uses dropout rate instead of keep_prob. Please ensure that this is intended.\n"
     ]
    }
   ],
   "source": [
    "# base_model = DenseNet121(include_top=False, weights=\"imagenet\", classes=5, input_shape=(224,224,3))\n",
    "# base_model.trainable = False\n",
    "\n",
    "# x = base_model.output\n",
    "# x = GlobalAveragePooling2D()(x)\n",
    "# x = Dropout(0.8)(x)\n",
    "# preds = Dense(1, activation=\"linear\", bias_initializer = tf.keras.initializers.Constant(value=4),\n",
    "# #               kernel_regularizer=tf.keras.regularizers.l1_l2(l1=0.01, l2=0.01),\n",
    "#              bias_constraint = tf.keras.constraints.MinMaxNorm(min_value=2, max_value=6, rate=1.0, axis=0),\n",
    "#              )(x)\n",
    "# model = Model(inputs=base_model.input, outputs=preds, name = \"densenet_fine_tune_70_\")\n",
    "\n",
    "# model.compile(optimizer=keras.optimizers.Nadam(), loss='mse', metrics=[soft_acc])\n",
    "\n",
    "\n",
    "# # hinge loss doesnt work, for some reason(?) hinge loss is for multi-class output; loss for a \"single\" output will always be 0\n",
    "# # first train with feature extractor freezed\n",
    "\n",
    "# early_stopping = EarlyStopping(monitor='val_loss', patience=21,restore_best_weights=True)\n",
    "# reduce_lr_plateau = ReduceLROnPlateau(monitor='val_loss', patience = 7, factor = 0.8)\n",
    "\n",
    "# history = model.fit_generator(generator=train_set,\n",
    "#                     epochs=50,\n",
    "#                     verbose=1,\n",
    "#                     validation_data=validation_set,\n",
    "# #                     validation_freq=2,\n",
    "#                     callbacks = [early_stopping, reduce_lr_plateau]\n",
    "#                     )\n",
    "\n",
    "# # model.save(filepath =\"./saved_models/my_densenet_regression/1/untuned.h5\")\n",
    "# model = tf.keras.models.load_model(filepath =\"./saved_models/my_densenet_regression/1/untuned.h5\",custom_objects={'soft_acc':soft_acc})"
   ]
  },
  {
   "cell_type": "code",
   "execution_count": 6,
   "metadata": {
    "collapsed": true,
    "jupyter": {
     "outputs_hidden": true,
     "source_hidden": true
    }
   },
   "outputs": [
    {
     "name": "stdout",
     "output_type": "stream",
     "text": [
      "Epoch 1/100\n",
      "WARNING:tensorflow:Large dropout rate: 0.8 (>0.5). In TensorFlow 2.x, dropout() uses dropout rate instead of keep_prob. Please ensure that this is intended.\n",
      " 1/16 [>.............................] - ETA: 50s - loss: 4.2028 - soft_acc: 0.1250WARNING:tensorflow:Large dropout rate: 0.8 (>0.5). In TensorFlow 2.x, dropout() uses dropout rate instead of keep_prob. Please ensure that this is intended.\n",
      " 2/16 [==>...........................] - ETA: 37s - loss: 4.7111 - soft_acc: 0.1250WARNING:tensorflow:Large dropout rate: 0.8 (>0.5). In TensorFlow 2.x, dropout() uses dropout rate instead of keep_prob. Please ensure that this is intended.\n",
      " 3/16 [====>.........................] - ETA: 25s - loss: 5.1470 - soft_acc: 0.1771WARNING:tensorflow:Large dropout rate: 0.8 (>0.5). In TensorFlow 2.x, dropout() uses dropout rate instead of keep_prob. Please ensure that this is intended.\n",
      "16/16 [==============================] - 15s 952ms/step - loss: 3.7844 - soft_acc: 0.2038 - val_loss: 7.4277 - val_soft_acc: 0.1786\n",
      "Epoch 2/100\n",
      "16/16 [==============================] - 12s 730ms/step - loss: 2.6934 - soft_acc: 0.2721 - val_loss: 7.2248 - val_soft_acc: 0.0714\n",
      "Epoch 3/100\n",
      "16/16 [==============================] - 11s 713ms/step - loss: 2.1013 - soft_acc: 0.3014 - val_loss: 3.2595 - val_soft_acc: 0.1964\n",
      "Epoch 4/100\n",
      "16/16 [==============================] - 11s 705ms/step - loss: 1.7496 - soft_acc: 0.3170 - val_loss: 9.4977 - val_soft_acc: 0.0179\n",
      "Epoch 5/100\n",
      "16/16 [==============================] - 12s 724ms/step - loss: 2.1163 - soft_acc: 0.3625 - val_loss: 2.6740 - val_soft_acc: 0.0893\n",
      "Epoch 6/100\n",
      "16/16 [==============================] - 11s 710ms/step - loss: 2.4370 - soft_acc: 0.2939 - val_loss: 6.0897 - val_soft_acc: 0.0000e+00\n",
      "Epoch 7/100\n",
      "16/16 [==============================] - 12s 732ms/step - loss: 1.2040 - soft_acc: 0.3275 - val_loss: 9.4389 - val_soft_acc: 0.0000e+00\n",
      "Epoch 8/100\n",
      "16/16 [==============================] - 12s 721ms/step - loss: 1.2956 - soft_acc: 0.3321 - val_loss: 5.7548 - val_soft_acc: 0.0000e+00\n",
      "Epoch 9/100\n",
      "16/16 [==============================] - 11s 707ms/step - loss: 1.1615 - soft_acc: 0.3600 - val_loss: 2.9078 - val_soft_acc: 0.1071\n",
      "Epoch 10/100\n",
      "16/16 [==============================] - 11s 716ms/step - loss: 1.1166 - soft_acc: 0.3775 - val_loss: 4.0788 - val_soft_acc: 0.0179\n",
      "Epoch 11/100\n",
      "16/16 [==============================] - 12s 720ms/step - loss: 0.9445 - soft_acc: 0.3759 - val_loss: 1.9499 - val_soft_acc: 0.2321\n",
      "Epoch 12/100\n",
      "16/16 [==============================] - 11s 717ms/step - loss: 0.8998 - soft_acc: 0.3911 - val_loss: 1.5560 - val_soft_acc: 0.2500\n",
      "Epoch 13/100\n",
      "16/16 [==============================] - 11s 704ms/step - loss: 0.8325 - soft_acc: 0.4102 - val_loss: 2.1725 - val_soft_acc: 0.1429\n",
      "Epoch 14/100\n",
      "16/16 [==============================] - 11s 714ms/step - loss: 0.8020 - soft_acc: 0.4372 - val_loss: 2.4263 - val_soft_acc: 0.1250\n",
      "Epoch 15/100\n",
      "16/16 [==============================] - 11s 716ms/step - loss: 0.8702 - soft_acc: 0.4223 - val_loss: 1.5553 - val_soft_acc: 0.2500\n",
      "Epoch 16/100\n",
      "16/16 [==============================] - 11s 710ms/step - loss: 0.7714 - soft_acc: 0.4504 - val_loss: 2.3140 - val_soft_acc: 0.1250\n",
      "Epoch 17/100\n",
      "16/16 [==============================] - 11s 716ms/step - loss: 0.7144 - soft_acc: 0.4864 - val_loss: 1.6772 - val_soft_acc: 0.2143\n",
      "Epoch 18/100\n",
      "16/16 [==============================] - 12s 719ms/step - loss: 0.6461 - soft_acc: 0.4781 - val_loss: 2.0962 - val_soft_acc: 0.1429\n",
      "Epoch 19/100\n",
      "16/16 [==============================] - 11s 711ms/step - loss: 0.6079 - soft_acc: 0.4625 - val_loss: 1.5945 - val_soft_acc: 0.2321\n",
      "Epoch 20/100\n",
      "16/16 [==============================] - 11s 712ms/step - loss: 0.5901 - soft_acc: 0.4711 - val_loss: 1.8389 - val_soft_acc: 0.2500\n",
      "Epoch 21/100\n",
      "16/16 [==============================] - 12s 721ms/step - loss: 0.5873 - soft_acc: 0.4992 - val_loss: 1.2794 - val_soft_acc: 0.3571\n",
      "Epoch 22/100\n",
      "16/16 [==============================] - 11s 709ms/step - loss: 0.5692 - soft_acc: 0.5111 - val_loss: 1.4206 - val_soft_acc: 0.2857\n",
      "Epoch 23/100\n",
      "16/16 [==============================] - 11s 706ms/step - loss: 0.4928 - soft_acc: 0.5411 - val_loss: 1.6013 - val_soft_acc: 0.2500\n",
      "Epoch 24/100\n",
      "16/16 [==============================] - 12s 734ms/step - loss: 0.4176 - soft_acc: 0.5500 - val_loss: 1.9006 - val_soft_acc: 0.2321\n",
      "Epoch 25/100\n",
      "16/16 [==============================] - 12s 771ms/step - loss: 0.4547 - soft_acc: 0.5577 - val_loss: 1.9681 - val_soft_acc: 0.2143\n",
      "Epoch 26/100\n",
      "16/16 [==============================] - 12s 722ms/step - loss: 0.4279 - soft_acc: 0.5231 - val_loss: 1.3467 - val_soft_acc: 0.3393\n",
      "Epoch 27/100\n",
      "16/16 [==============================] - 11s 709ms/step - loss: 0.4151 - soft_acc: 0.5686 - val_loss: 1.8811 - val_soft_acc: 0.1964\n",
      "Epoch 28/100\n",
      "16/16 [==============================] - 12s 724ms/step - loss: 0.3989 - soft_acc: 0.5937 - val_loss: 1.8037 - val_soft_acc: 0.2500\n",
      "Epoch 29/100\n",
      "16/16 [==============================] - 12s 721ms/step - loss: 0.3571 - soft_acc: 0.5910 - val_loss: 1.7128 - val_soft_acc: 0.2857\n",
      "Epoch 30/100\n",
      "16/16 [==============================] - 11s 715ms/step - loss: 0.4089 - soft_acc: 0.5582 - val_loss: 1.6990 - val_soft_acc: 0.2143\n",
      "Epoch 31/100\n",
      "16/16 [==============================] - 12s 748ms/step - loss: 0.4119 - soft_acc: 0.5766 - val_loss: 1.1392 - val_soft_acc: 0.4107\n",
      "Epoch 32/100\n",
      "16/16 [==============================] - 11s 711ms/step - loss: 0.3259 - soft_acc: 0.6280 - val_loss: 0.8805 - val_soft_acc: 0.4643\n",
      "Epoch 33/100\n",
      "16/16 [==============================] - 11s 709ms/step - loss: 0.4063 - soft_acc: 0.5826 - val_loss: 1.3899 - val_soft_acc: 0.3571\n",
      "Epoch 34/100\n",
      "16/16 [==============================] - 11s 703ms/step - loss: 0.3282 - soft_acc: 0.6094 - val_loss: 1.4126 - val_soft_acc: 0.3393\n",
      "Epoch 35/100\n",
      "16/16 [==============================] - 11s 703ms/step - loss: 0.3276 - soft_acc: 0.6348 - val_loss: 1.5909 - val_soft_acc: 0.2500\n",
      "Epoch 36/100\n",
      "16/16 [==============================] - 11s 710ms/step - loss: 0.3142 - soft_acc: 0.6413 - val_loss: 1.2464 - val_soft_acc: 0.3571\n",
      "Epoch 37/100\n",
      "16/16 [==============================] - 11s 700ms/step - loss: 0.2793 - soft_acc: 0.6590 - val_loss: 1.4309 - val_soft_acc: 0.2857\n",
      "Epoch 38/100\n",
      "16/16 [==============================] - 11s 713ms/step - loss: 0.2701 - soft_acc: 0.6764 - val_loss: 1.0906 - val_soft_acc: 0.4643\n",
      "Epoch 39/100\n",
      "16/16 [==============================] - 11s 717ms/step - loss: 0.2773 - soft_acc: 0.6622 - val_loss: 1.1994 - val_soft_acc: 0.4286\n",
      "Epoch 40/100\n",
      "16/16 [==============================] - 11s 708ms/step - loss: 0.3135 - soft_acc: 0.6194 - val_loss: 1.5854 - val_soft_acc: 0.2321\n",
      "Epoch 41/100\n",
      "16/16 [==============================] - 12s 739ms/step - loss: 0.2405 - soft_acc: 0.6798 - val_loss: 2.0178 - val_soft_acc: 0.1607\n",
      "Epoch 42/100\n",
      "16/16 [==============================] - 12s 728ms/step - loss: 0.2349 - soft_acc: 0.6999 - val_loss: 1.8032 - val_soft_acc: 0.2143\n",
      "Epoch 43/100\n",
      "16/16 [==============================] - 11s 710ms/step - loss: 0.3123 - soft_acc: 0.6628 - val_loss: 1.5179 - val_soft_acc: 0.2679\n",
      "Epoch 44/100\n",
      "16/16 [==============================] - 12s 721ms/step - loss: 0.2716 - soft_acc: 0.6656 - val_loss: 1.8976 - val_soft_acc: 0.1429\n",
      "Epoch 45/100\n",
      "16/16 [==============================] - 12s 744ms/step - loss: 0.2985 - soft_acc: 0.6299 - val_loss: 1.3773 - val_soft_acc: 0.3214\n",
      "Epoch 46/100\n",
      "16/16 [==============================] - 12s 739ms/step - loss: 0.2345 - soft_acc: 0.7055 - val_loss: 1.4336 - val_soft_acc: 0.2679\n",
      "Epoch 47/100\n",
      "16/16 [==============================] - 12s 771ms/step - loss: 0.2193 - soft_acc: 0.7263 - val_loss: 1.5347 - val_soft_acc: 0.2857\n",
      "Epoch 48/100\n",
      "16/16 [==============================] - 11s 716ms/step - loss: 0.2231 - soft_acc: 0.7072 - val_loss: 1.6319 - val_soft_acc: 0.2679\n",
      "Epoch 49/100\n",
      "16/16 [==============================] - 11s 715ms/step - loss: 0.2383 - soft_acc: 0.6990 - val_loss: 1.3898 - val_soft_acc: 0.3036\n",
      "Epoch 50/100\n",
      "16/16 [==============================] - 11s 718ms/step - loss: 0.2163 - soft_acc: 0.7205 - val_loss: 1.6988 - val_soft_acc: 0.2500\n",
      "Epoch 51/100\n",
      "16/16 [==============================] - 11s 708ms/step - loss: 0.1854 - soft_acc: 0.7522 - val_loss: 1.8299 - val_soft_acc: 0.2143\n",
      "Epoch 52/100\n",
      "16/16 [==============================] - 12s 742ms/step - loss: 0.1670 - soft_acc: 0.7841 - val_loss: 1.3515 - val_soft_acc: 0.3393\n",
      "Epoch 53/100\n",
      "16/16 [==============================] - 12s 725ms/step - loss: 0.2075 - soft_acc: 0.7471 - val_loss: 1.3166 - val_soft_acc: 0.3036\n"
     ]
    }
   ],
   "source": [
    "# for layer in model.layers[70:]:\n",
    "#     layer.trainable = True\n",
    "\n",
    "# model.compile(optimizer=keras.optimizers.Nadam(), loss='mse', metrics=[soft_acc])\n",
    "# len(model.trainable_variables)\n",
    "\n",
    "# logdir_name = r\".\\tfb\\logs\\densenet_regression\\\\\" + model.name + datetime.now().strftime(\"%Y%m%d-%H%M%S\")\n",
    "# tensorboard_callback = TensorBoard(log_dir=logdir_name)\n",
    "# early_stopping = EarlyStopping(monitor='val_loss', patience=21,restore_best_weights=True)\n",
    "# reduce_lr_plateau = ReduceLROnPlateau(monitor='val_loss', patience = 7, factor = 0.8)\n",
    "# history_fine = model.fit_generator(generator=train_set,\n",
    "#                     epochs=100,\n",
    "#                     validation_data=validation_set,\n",
    "#                     callbacks = [tensorboard_callback,early_stopping, reduce_lr_plateau ]\n",
    "#                     )\n",
    "\n",
    "# model.save(filepath =\"./saved_models/my_densenet_regression/1/best_weight.h5\")"
   ]
  },
  {
   "cell_type": "code",
   "execution_count": 2,
   "metadata": {},
   "outputs": [
    {
     "ename": "NameError",
     "evalue": "name 'seed' is not defined",
     "output_type": "error",
     "traceback": [
      "\u001b[1;31m---------------------------------------------------------------------------\u001b[0m",
      "\u001b[1;31mNameError\u001b[0m                                 Traceback (most recent call last)",
      "\u001b[1;32m<ipython-input-2-2657eda4a5d1>\u001b[0m in \u001b[0;36m<module>\u001b[1;34m\u001b[0m\n\u001b[0;32m    137\u001b[0m \u001b[1;32mfrom\u001b[0m \u001b[0msklearn\u001b[0m\u001b[1;33m.\u001b[0m\u001b[0mmodel_selection\u001b[0m \u001b[1;32mimport\u001b[0m \u001b[0mStratifiedKFold\u001b[0m\u001b[1;33m\u001b[0m\u001b[1;33m\u001b[0m\u001b[0m\n\u001b[0;32m    138\u001b[0m \u001b[1;33m\u001b[0m\u001b[0m\n\u001b[1;32m--> 139\u001b[1;33m \u001b[0mkf\u001b[0m \u001b[1;33m=\u001b[0m \u001b[0mStratifiedKFold\u001b[0m\u001b[1;33m(\u001b[0m\u001b[0mn_splits\u001b[0m\u001b[1;33m=\u001b[0m\u001b[1;36m5\u001b[0m\u001b[1;33m,\u001b[0m \u001b[0mshuffle\u001b[0m\u001b[1;33m=\u001b[0m\u001b[1;32mTrue\u001b[0m\u001b[1;33m,\u001b[0m \u001b[0mrandom_state\u001b[0m\u001b[1;33m=\u001b[0m\u001b[0mseed\u001b[0m\u001b[1;33m)\u001b[0m\u001b[1;33m\u001b[0m\u001b[1;33m\u001b[0m\u001b[0m\n\u001b[0m\u001b[0;32m    140\u001b[0m \u001b[0minnerkf\u001b[0m \u001b[1;33m=\u001b[0m \u001b[0mStratifiedKFold\u001b[0m\u001b[1;33m(\u001b[0m\u001b[0mn_splits\u001b[0m\u001b[1;33m=\u001b[0m\u001b[1;36m2\u001b[0m\u001b[1;33m,\u001b[0m \u001b[0mshuffle\u001b[0m\u001b[1;33m=\u001b[0m\u001b[1;32mTrue\u001b[0m\u001b[1;33m,\u001b[0m \u001b[0mrandom_state\u001b[0m\u001b[1;33m=\u001b[0m\u001b[0mseed\u001b[0m\u001b[1;33m)\u001b[0m\u001b[1;33m\u001b[0m\u001b[1;33m\u001b[0m\u001b[0m\n\u001b[0;32m    141\u001b[0m \u001b[0mresponse\u001b[0m \u001b[1;33m=\u001b[0m \u001b[0mresponse\u001b[0m\u001b[1;33m.\u001b[0m\u001b[0msample\u001b[0m\u001b[1;33m(\u001b[0m\u001b[0mfrac\u001b[0m\u001b[1;33m=\u001b[0m\u001b[1;36m1.0\u001b[0m\u001b[1;33m)\u001b[0m\u001b[1;33m\u001b[0m\u001b[1;33m\u001b[0m\u001b[0m\n",
      "\u001b[1;31mNameError\u001b[0m: name 'seed' is not defined"
     ]
    }
   ],
   "source": [
    "# @tf.function\n",
    "def generate_base_model():\n",
    "    base_model = DenseNet121(\n",
    "        include_top=False, weights=\"imagenet\", input_shape=(224, 224, 3)\n",
    "    )\n",
    "    base_model.trainable = False\n",
    "    x = base_model.output\n",
    "    x = GlobalAveragePooling2D()(x)\n",
    "    x = Dropout(0.5)(x)\n",
    "    x = Dense(1, bias_initializer=tf.keras.initializers.Constant(value=4),\n",
    "        bias_constraint=tf.keras.constraints.MinMaxNorm(\n",
    "            min_value=2, max_value=6, rate=1.0, axis=0\n",
    "        ))(x)\n",
    "    preds = Activation(\n",
    "        \"linear\",\n",
    "        dtype=\"float32\",\n",
    "        \n",
    "    )(x)\n",
    "    model = Model(inputs=base_model.input, outputs=preds)\n",
    "\n",
    "    model.compile(\n",
    "        optimizer=keras.optimizers.Nadam(lr=0.0014), loss=\"mse\", metrics=[soft_acc]\n",
    "    )\n",
    "\n",
    "    return model\n",
    "\n",
    "\n",
    "trainable_sequence = np.array([429, 424, 423, 422, 421, 420, 419, 418, 417, 416, 415, 414, 413, 412,\n",
    "       411, 410, 409, 408, 407, 406, 405, 404, 403, 402, 401, 400, 399,\n",
    "       398, 397, 396, 395, 394, 393, 392, 391, 390, 389, 388, 387, 386,\n",
    "       385, 384, 383, 382, 381, 380, 379, 378, 377, 376, 375, 374, 373,\n",
    "       372, 371, 370, 369, 368, 367, 366, 365, 364, 363, 362, 361, 360,\n",
    "       359, 358, 357, 356, 355, 354, 353, 352, 351, 350, 349, 348, 347,\n",
    "       346, 345, 344, 343, 342, 341, 340, 339, 338, 337, 336, 335, 334,\n",
    "       333, 332, 331, 330, 329, 328, 327, 326, 325, 324, 323, 322, 321,\n",
    "       320, 319, 318, 317, 316, 315, 314, 313, 311, 308, 307, 306, 305,\n",
    "       304, 303, 302, 301, 300, 299, 298, 297, 296, 295, 294, 293, 292,\n",
    "       291, 290, 289, 288, 287, 286, 285, 284, 283, 282, 281, 280, 279,\n",
    "       278, 277, 276, 275, 274, 273, 272, 271, 270, 269, 268, 267, 266,\n",
    "       265, 264, 263, 262, 261, 260, 259, 258, 257, 256, 255, 254, 253,\n",
    "       252, 251, 250, 249, 248, 247, 246, 245, 244, 243, 242, 241, 240,\n",
    "       239, 238, 237, 236, 235, 234, 233, 232, 231, 230, 229, 228, 227,\n",
    "       226, 225, 224, 223, 222, 221, 220, 219, 218, 217, 216, 215, 214,\n",
    "       213, 212, 211, 210, 209, 208, 207, 206, 205, 204, 203, 202, 201,\n",
    "       200, 199, 198, 197, 196, 195, 194, 193, 192, 191, 190, 189, 188,\n",
    "       187, 186, 185, 184, 183, 182, 181, 180, 179, 178, 177, 176, 175,\n",
    "       174, 173, 172, 171, 170, 169, 168, 167, 166, 165, 164, 163, 162,\n",
    "       161, 160, 159, 158, 157, 156, 155, 154, 153, 152, 151, 150, 149,\n",
    "       148, 147, 146, 145, 144, 143, 142, 141, 139, 136, 135, 134, 133,\n",
    "       132, 131, 130, 129, 128, 127, 126, 125, 124, 123, 122, 121, 120,\n",
    "       119, 118, 117, 116, 115, 114, 113, 112, 111, 110, 109, 108, 107,\n",
    "       106, 105, 104, 103, 102, 101, 100,  99,  98,  97,  96,  95,  94,\n",
    "        93,  92,  91,  90,  89,  88,  87,  86,  85,  84,  83,  82,  81,\n",
    "        80,  79,  78,  77,  76,  75,  74,  73,  72,  71,  70,  69,  68,\n",
    "        67,  66,  65,  64,  63,  62,  61,  60,  59,  58,  57,  56,  55,\n",
    "        54,  53,  51,  48,  47,  46,  45,  44,  43,  42,  41,  40,  39,\n",
    "        38,  37,  36,  35,  34,  33,  32,  31,  30,  29,  28,  27,  26,\n",
    "        25,  24,  23,  22,  21,  20,  19,  18,  17,  16,  15,  14,  13,\n",
    "        12,  11,  10,   9,   8,   7,   4,   3,   2])\n",
    "\n",
    "# @tf.function\n",
    "def fine_tune_model(model, fine_tune=None):\n",
    "    if fine_tune is None:\n",
    "        try:\n",
    "            fine_tune = 424\n",
    "        except:\n",
    "            pass\n",
    "\n",
    "    model.trainable = True\n",
    "    for layer in model.layers[:fine_tune]:\n",
    "        layer.trainable = False\n",
    "    for layer in model.layers[fine_tune:]:\n",
    "        layer.trainable = True\n",
    "\n",
    "    model.compile(\n",
    "        optimizer=keras.optimizers.Nadam(lr=0.0003),\n",
    "        loss=\"mse\",\n",
    "        metrics=[soft_acc],\n",
    "    )\n",
    "\n",
    "    return model\n",
    "\n",
    "# @tf.function\n",
    "def generate_train_val_test(train_index, val_index, test_index):\n",
    "    train_dataset = response.iloc[train_index]\n",
    "    val_dataset = response.iloc[val_index]\n",
    "    test_dataset = response.iloc[test_index]\n",
    "    train_gen = ImageDataGenerator(\n",
    "        rotation_range=5,\n",
    "        fill_mode=\"reflect\",\n",
    "        horizontal_flip=True,\n",
    "        rescale=1.0 / 255.0,\n",
    "        zoom_range=0.1,\n",
    "    )\n",
    "    valid_test_gen = ImageDataGenerator(rescale=1.0 / 255.0,)\n",
    "\n",
    "    train_set = train_gen.flow_from_dataframe(\n",
    "        dataframe=train_dataset,\n",
    "        directory=DATADIR,\n",
    "        x_col=\"GreenID\",\n",
    "        target_size=(224, 224),\n",
    "        color_mode=\"rgb\",\n",
    "        subset=\"training\",\n",
    "        shuffle=True,\n",
    "        y_col=\"Grade\",\n",
    "        class_mode=\"raw\",\n",
    "    )\n",
    "\n",
    "    validation_set = train_gen.flow_from_dataframe(\n",
    "        dataframe=val_dataset,\n",
    "        directory=DATADIR,\n",
    "        x_col=\"GreenID\",\n",
    "        target_size=(224, 224),\n",
    "        color_mode=\"rgb\",\n",
    "        subset=\"training\",\n",
    "        shuffle=False,\n",
    "        batch_size=64,\n",
    "        y_col=\"Grade\",\n",
    "        class_mode=\"raw\",\n",
    "    )\n",
    "\n",
    "    test_set = valid_test_gen.flow_from_dataframe(\n",
    "        dataframe=test_dataset,\n",
    "        directory=DATADIR,\n",
    "        x_col=\"GreenID\",\n",
    "        target_size=(224, 224),\n",
    "        color_mode=\"rgb\",\n",
    "        subset=\"training\",\n",
    "        shuffle=False,\n",
    "        batch_size=64,\n",
    "        y_col=\"Grade\",\n",
    "        class_mode=\"raw\",\n",
    "    )\n",
    "    return train_set, validation_set, test_set\n",
    "\n",
    "\n",
    "from sklearn.model_selection import StratifiedKFold\n",
    "\n",
    "kf = StratifiedKFold(n_splits=5, shuffle=True, random_state=seed)\n",
    "innerkf = StratifiedKFold(n_splits=2, shuffle=True, random_state=seed)\n",
    "response = response.sample(frac=1.0)\n",
    "early_stopping = EarlyStopping(\n",
    "    monitor=\"val_loss\", patience=21, restore_best_weights=True,\n",
    ")\n",
    "reduce_lr_plateau = ReduceLROnPlateau(monitor=\"val_loss\", patience=7, factor=0.8)"
   ]
  },
  {
   "cell_type": "code",
   "execution_count": 3,
   "metadata": {},
   "outputs": [],
   "source": [
    "# @tf.function\n",
    "def stratified_cv(fine_tune_layer=None):\n",
    "    acc_coef_scores = []\n",
    "    raw_outputs = []\n",
    "    for train_index, val_test_index in kf.split(\n",
    "        np.zeros(len(response)), response[\"Grade\"]\n",
    "    ):\n",
    "        val_index, test_index = next(\n",
    "            innerkf.split(\n",
    "                np.zeros(len(val_test_index)), response[\"Grade\"].iloc[val_test_index]\n",
    "            )\n",
    "        )\n",
    "        val_index, test_index = val_test_index[val_index], val_test_index[test_index]\n",
    "        train_set, validation_set, test_set = generate_train_val_test(\n",
    "            train_index, val_index, test_index\n",
    "        )\n",
    "        model = generate_base_model()\n",
    "\n",
    "#         _ = model.fit(\n",
    "#             x=train_set,\n",
    "#             epochs=15,\n",
    "#             validation_data=validation_set,\n",
    "#             callbacks=[early_stopping, reduce_lr_plateau],\n",
    "#             #         verbose=0,\n",
    "#         )\n",
    "\n",
    "        model = fine_tune_model(model, fine_tune=fine_tune_layer)\n",
    "\n",
    "        _ = model.fit(\n",
    "            x=train_set,\n",
    "            epochs=200,\n",
    "            validation_data=validation_set,\n",
    "            callbacks=[early_stopping, reduce_lr_plateau],\n",
    "                    verbose=0,\n",
    "        )\n",
    "\n",
    "        batch = next(test_set)\n",
    "        true_labels = batch[1]\n",
    "        predictions = model.predict(batch[0])\n",
    "        acc = soft_acc_multi_output(predictions, true_labels).numpy()\n",
    "        corr = np.corrcoef(predictions.reshape(-1), true_labels)[0][1]\n",
    "        acc_coef_scores.append([acc, corr])\n",
    "        raw_outputs.append([np.array(response.iloc[test_index].index), true_labels, predictions.reshape(-1)])\n",
    "        del train_set, validation_set, test_set, _, model, batch, true_labels, predictions, acc, corr\n",
    "        tf.keras.backend.clear_session()\n",
    "        gc.collect()\n",
    "    return acc_coef_scores, raw_outputs"
   ]
  },
  {
   "cell_type": "code",
   "execution_count": null,
   "metadata": {},
   "outputs": [],
   "source": [
    "from tqdm import tqdm\n",
    "\n",
    "import gc\n",
    "\n",
    "fine_tune_scores_acc_coef = []\n",
    "fine_tune_raw_outputs = []\n",
    "\n",
    "for i in tqdm(range(360,0,-12)):\n",
    "    \n",
    "    fine_tune = trainable_sequence[i]\n",
    "    acc_coef_scores, raw_outputs = stratified_cv(fine_tune)\n",
    "    fine_tune_scores_acc_coef.append(acc_coef_scores)\n",
    "    fine_tune_raw_outputs.append(raw_outputs)\n",
    "    np.save(r\"./stratified_cross_validation_results/densenets/regression_acc_coef\", np.array(fine_tune_scores_acc_coef))\n",
    "    np.save(r\"./stratified_cross_validation_results/densenets/regression_raw_outputs\", np.array(fine_tune_raw_outputs))\n",
    "    del acc_coef_scores, raw_outputs\n",
    "    tf.keras.backend.clear_session()\n",
    "    gc.collect()"
   ]
  },
  {
   "cell_type": "code",
   "execution_count": null,
   "metadata": {},
   "outputs": [],
   "source": []
  },
  {
   "cell_type": "code",
   "execution_count": null,
   "metadata": {},
   "outputs": [],
   "source": []
  },
  {
   "cell_type": "code",
   "execution_count": null,
   "metadata": {},
   "outputs": [],
   "source": []
  },
  {
   "cell_type": "code",
   "execution_count": 1,
   "metadata": {},
   "outputs": [
    {
     "name": "stdout",
     "output_type": "stream",
     "text": [
      "30\n",
      "[[28 14  1  1  0]\n",
      " [10 24 19  1  0]\n",
      " [10 21 36 10  2]\n",
      " [ 0  0 17 28  4]\n",
      " [ 0  0 17 31  8]]\n",
      "+++++++++++++++++++++++++++++++++\n",
      "+++++++++++++++++++++++++++++++++\n",
      "[[0.63636364 0.31818182 0.02272727 0.02272727 0.        ]\n",
      " [0.18518519 0.44444444 0.35185185 0.01851852 0.        ]\n",
      " [0.12658228 0.26582278 0.4556962  0.12658228 0.02531646]\n",
      " [0.         0.         0.34693878 0.57142857 0.08163265]\n",
      " [0.         0.         0.30357143 0.55357143 0.14285714]]\n",
      "+++++++++++++++++++++++++++++++++\n",
      "+++++++++++++++++++++++++++++++++\n",
      "Accuracy:  43.97163120567376\n",
      "Raw Correlation:  0.7506412608853257\n",
      "Rounded Correlation:  0.7336775216640599\n",
      "+++++++++++++++++++++++++++++++++\n",
      "+++++++++++++++++++++++++++++++++\n",
      "max accuracy with tuning from 71 layers, or tune 359 layers\n",
      "1 [63.63636363636363, 44.44444444444444, 45.56962025316456, 57.14285714285714, 14.285714285714285]\n"
     ]
    },
    {
     "data": {
      "image/png": "[encoded data removed]",
      "text/plain": [
       "<Figure size 432x288 with 1 Axes>"
      ]
     },
     "metadata": {
      "needs_background": "light"
     },
     "output_type": "display_data"
    }
   ],
   "source": [
    "import numpy as np\n",
    "\n",
    "acc_coef = np.load(\n",
    "    r\"./stratified_cross_validation_results/densenets/regression_acc_coef.npy\",\n",
    "    allow_pickle=True,\n",
    ")\n",
    "raw_outputs = np.load(\n",
    "    r\"./stratified_cross_validation_results/densenets/regression_raw_outputs.npy\",\n",
    "    allow_pickle=True,\n",
    ")\n",
    "print(len(acc_coef))\n",
    "\n",
    "\n",
    "from sklearn.metrics import confusion_matrix\n",
    "\n",
    "\n",
    "\n",
    "def show_confusion_matrix(raw_outputs, fine_tune_layers):\n",
    "\n",
    "    y_true = np.hstack(raw_outputs[fine_tune_layers, :, 1])\n",
    "    y_pred = np.rint(np.hstack(raw_outputs[fine_tune_layers, :, 2])).astype(\"int\")\n",
    "    y_pred[y_pred > 6] = 6\n",
    "    y_pred[y_pred < 2] = 2\n",
    "    return confusion_matrix(y_true, y_pred)\n",
    "\n",
    "\n",
    "def show_matrix_percentage(confusion_matrix):\n",
    "    return np.transpose(\n",
    "        np.transpose(my_confusion_matrix) / np.sum(my_confusion_matrix, axis=1)\n",
    "    )\n",
    "\n",
    "\n",
    "# total accuracy\n",
    "def calculate_accuracy(my_confusion_matrix):\n",
    "    return np.trace(my_confusion_matrix) / np.sum(my_confusion_matrix)\n",
    "\n",
    "\n",
    "def raw_correlation(raw_outputs, fine_tune_layers):\n",
    "    y_true = np.hstack(raw_outputs[fine_tune_layers, :, 1]).astype(float)\n",
    "    y_pred = np.hstack(raw_outputs[fine_tune_layers, :, 2]).astype(float)\n",
    "    y_pred[y_pred > 6] = 6.0\n",
    "    y_pred[y_pred < 2] = 2.0\n",
    "    return np.corrcoef(y_true, y_pred)\n",
    "\n",
    "\n",
    "def rounded_correlation(raw_outputs, fine_tune_layers):\n",
    "    y_true = np.hstack(raw_outputs[fine_tune_layers, :, 1]).astype(float)\n",
    "    y_pred = np.rint(np.hstack(raw_outputs[fine_tune_layers, :, 2])).astype(\"int\")\n",
    "    y_pred[y_pred > 6] = 6.0\n",
    "    y_pred[y_pred < 2] = 2.0\n",
    "    return np.corrcoef(y_true, y_pred)\n",
    "\n",
    "\n",
    "max_acc_layer = np.argmax([calculate_accuracy(show_confusion_matrix(raw_outputs, i))  for i in range(len(acc_coef))])\n",
    "\n",
    "my_confusion_matrix = show_confusion_matrix(raw_outputs, max_acc_layer)\n",
    "print(my_confusion_matrix)\n",
    "print(\"+++++++++++++++++++++++++++++++++\")\n",
    "print(\"+++++++++++++++++++++++++++++++++\")\n",
    "print(show_matrix_percentage(my_confusion_matrix))\n",
    "print(\"+++++++++++++++++++++++++++++++++\")\n",
    "print(\"+++++++++++++++++++++++++++++++++\")\n",
    "print(\"Accuracy: \",calculate_accuracy(my_confusion_matrix)*100)\n",
    "print(\"Raw Correlation: \",raw_correlation(raw_outputs,max_acc_layer)[0][1])\n",
    "print(\"Rounded Correlation: \",rounded_correlation(raw_outputs,max_acc_layer)[0][1])\n",
    "import matplotlib.pyplot as plt\n",
    "\n",
    "\n",
    "\n",
    "plt.plot(\n",
    "    [i for i in range(len(acc_coef))],\n",
    "    [\n",
    "        calculate_accuracy(show_confusion_matrix(raw_outputs, i))\n",
    "        for i in range(len(acc_coef))\n",
    "    ],\n",
    ")\n",
    "\n",
    "trainable_sequence = np.array([429, 424, 423, 422, 421, 420, 419, 418, 417, 416, 415, 414, 413, 412,\n",
    "       411, 410, 409, 408, 407, 406, 405, 404, 403, 402, 401, 400, 399,\n",
    "       398, 397, 396, 395, 394, 393, 392, 391, 390, 389, 388, 387, 386,\n",
    "       385, 384, 383, 382, 381, 380, 379, 378, 377, 376, 375, 374, 373,\n",
    "       372, 371, 370, 369, 368, 367, 366, 365, 364, 363, 362, 361, 360,\n",
    "       359, 358, 357, 356, 355, 354, 353, 352, 351, 350, 349, 348, 347,\n",
    "       346, 345, 344, 343, 342, 341, 340, 339, 338, 337, 336, 335, 334,\n",
    "       333, 332, 331, 330, 329, 328, 327, 326, 325, 324, 323, 322, 321,\n",
    "       320, 319, 318, 317, 316, 315, 314, 313, 311, 308, 307, 306, 305,\n",
    "       304, 303, 302, 301, 300, 299, 298, 297, 296, 295, 294, 293, 292,\n",
    "       291, 290, 289, 288, 287, 286, 285, 284, 283, 282, 281, 280, 279,\n",
    "       278, 277, 276, 275, 274, 273, 272, 271, 270, 269, 268, 267, 266,\n",
    "       265, 264, 263, 262, 261, 260, 259, 258, 257, 256, 255, 254, 253,\n",
    "       252, 251, 250, 249, 248, 247, 246, 245, 244, 243, 242, 241, 240,\n",
    "       239, 238, 237, 236, 235, 234, 233, 232, 231, 230, 229, 228, 227,\n",
    "       226, 225, 224, 223, 222, 221, 220, 219, 218, 217, 216, 215, 214,\n",
    "       213, 212, 211, 210, 209, 208, 207, 206, 205, 204, 203, 202, 201,\n",
    "       200, 199, 198, 197, 196, 195, 194, 193, 192, 191, 190, 189, 188,\n",
    "       187, 186, 185, 184, 183, 182, 181, 180, 179, 178, 177, 176, 175,\n",
    "       174, 173, 172, 171, 170, 169, 168, 167, 166, 165, 164, 163, 162,\n",
    "       161, 160, 159, 158, 157, 156, 155, 154, 153, 152, 151, 150, 149,\n",
    "       148, 147, 146, 145, 144, 143, 142, 141, 139, 136, 135, 134, 133,\n",
    "       132, 131, 130, 129, 128, 127, 126, 125, 124, 123, 122, 121, 120,\n",
    "       119, 118, 117, 116, 115, 114, 113, 112, 111, 110, 109, 108, 107,\n",
    "       106, 105, 104, 103, 102, 101, 100,  99,  98,  97,  96,  95,  94,\n",
    "        93,  92,  91,  90,  89,  88,  87,  86,  85,  84,  83,  82,  81,\n",
    "        80,  79,  78,  77,  76,  75,  74,  73,  72,  71,  70,  69,  68,\n",
    "        67,  66,  65,  64,  63,  62,  61,  60,  59,  58,  57,  56,  55,\n",
    "        54,  53,  51,  48,  47,  46,  45,  44,  43,  42,  41,  40,  39,\n",
    "        38,  37,  36,  35,  34,  33,  32,  31,  30,  29,  28,  27,  26,\n",
    "        25,  24,  23,  22,  21,  20,  19,  18,  17,  16,  15,  14,  13,\n",
    "        12,  11,  10,   9,   8,   7,   4,   3,   2])\n",
    "\n",
    "print(\"+++++++++++++++++++++++++++++++++\")\n",
    "print(\"+++++++++++++++++++++++++++++++++\")\n",
    "print(f\"max accuracy with tuning from {trainable_sequence[360:0:-12][max_acc_layer]} layers, or tune {430 - trainable_sequence[360:0:-12][max_acc_layer]} layers\")\n",
    "print(max_acc_layer, [show_matrix_percentage(my_confusion_matrix)[i,i]*100 for i in range(5)])"
   ]
  },
  {
   "cell_type": "code",
   "execution_count": null,
   "metadata": {},
   "outputs": [],
   "source": []
  },
  {
   "cell_type": "code",
   "execution_count": null,
   "metadata": {},
   "outputs": [],
   "source": []
  },
  {
   "cell_type": "code",
   "execution_count": null,
   "metadata": {},
   "outputs": [],
   "source": []
  },
  {
   "cell_type": "code",
   "execution_count": null,
   "metadata": {},
   "outputs": [],
   "source": []
  },
  {
   "cell_type": "code",
   "execution_count": null,
   "metadata": {},
   "outputs": [],
   "source": []
  },
  {
   "cell_type": "code",
   "execution_count": null,
   "metadata": {},
   "outputs": [],
   "source": []
  },
  {
   "cell_type": "code",
   "execution_count": null,
   "metadata": {},
   "outputs": [],
   "source": []
  },
  {
   "cell_type": "code",
   "execution_count": null,
   "metadata": {},
   "outputs": [],
   "source": []
  },
  {
   "cell_type": "code",
   "execution_count": null,
   "metadata": {},
   "outputs": [],
   "source": []
  },
  {
   "cell_type": "code",
   "execution_count": null,
   "metadata": {},
   "outputs": [],
   "source": []
  },
  {
   "cell_type": "code",
   "execution_count": 4,
   "metadata": {},
   "outputs": [
    {
     "name": "stdout",
     "output_type": "stream",
     "text": [
      "WARNING:tensorflow:Large dropout rate: 0.8 (>0.5). In TensorFlow 2.x, dropout() uses dropout rate instead of keep_prob. Please ensure that this is intended.\n"
     ]
    }
   ],
   "source": [
    "from  IPython import display\n",
    "from matplotlib import pyplot as plt\n",
    "\n",
    "import numpy as np\n",
    "\n",
    "import pathlib\n",
    "import shutil\n",
    "import tempfile\n",
    "model = tf.keras.models.load_model(filepath =\"./saved_models/my_densenet_regression/1/best_weight.h5\",custom_objects={'soft_acc':soft_acc}, compile=False)\n",
    "model.compile(optimizer=keras.optimizers.Nadam(), loss='mse', metrics=[soft_acc])"
   ]
  },
  {
   "cell_type": "code",
   "execution_count": 5,
   "metadata": {},
   "outputs": [
    {
     "name": "stdout",
     "output_type": "stream",
     "text": [
      "Found 56 validated image filenames.\n",
      "1/1 [==============================] - 4s 4s/step - loss: 0.7889 - soft_acc: 0.4107\n"
     ]
    },
    {
     "data": {
      "text/plain": [
       "[0.7889323830604553, 0.4107143]"
      ]
     },
     "execution_count": 5,
     "metadata": {},
     "output_type": "execute_result"
    }
   ],
   "source": [
    "test_set = data_gen.flow_from_dataframe(\n",
    "    dataframe=response,\n",
    "    directory=DATADIR,\n",
    "    x_col=\"GreenID\",\n",
    "    y_col=\"Grade\",\n",
    "    target_size=(224,224),\n",
    "    color_mode='rgb',\n",
    "    batch_size = 56,\n",
    "    class_mode='raw',\n",
    "    subset = \"validation\",\n",
    "    shuffle=True,\n",
    "#     class_mode = \"sparse\"\n",
    ")\n",
    "model.evaluate(test_set)"
   ]
  },
  {
   "cell_type": "code",
   "execution_count": 6,
   "metadata": {},
   "outputs": [
    {
     "data": {
      "text/plain": [
       "array([[1.        , 0.86952104],\n",
       "       [0.86952104, 1.        ]])"
      ]
     },
     "execution_count": 6,
     "metadata": {},
     "output_type": "execute_result"
    }
   ],
   "source": [
    "batch = next(test_set)\n",
    "true_labels = batch[1] \n",
    "predictions = model.predict(batch[0]).reshape(-1)\n",
    "np.corrcoef(predictions, true_labels)"
   ]
  },
  {
   "cell_type": "code",
   "execution_count": 7,
   "metadata": {},
   "outputs": [
    {
     "data": {
      "text/plain": [
       "array([4.8174267, 2.9545946, 2.0121977, 3.0494313, 1.9905353, 3.1861634,\n",
       "       2.4777877, 2.5162086, 3.8922534, 4.6012893, 5.3105097, 3.0070274,\n",
       "       3.582683 , 3.9239652, 2.5086799, 2.758663 , 4.6620855, 4.9011326,\n",
       "       3.9428258, 3.3892407, 2.3458185, 5.003082 , 3.4692292, 1.5527499,\n",
       "       2.812867 , 1.6151032, 4.2303686, 4.1937532, 3.2692575, 3.1533186,\n",
       "       1.7551136, 4.180257 , 4.439666 , 2.1827962, 3.5347495, 2.5323863,\n",
       "       4.551199 , 3.8940938, 3.1281133, 3.0512335, 2.9170604, 4.5494165,\n",
       "       4.5460916, 4.0294747, 1.9733646, 2.5636935, 3.9428868, 1.8045533,\n",
       "       2.296205 , 5.2323747, 4.665781 , 3.4958627, 2.1032124, 2.3734539,\n",
       "       4.5092764, 4.90207  ], dtype=float32)"
      ]
     },
     "execution_count": 7,
     "metadata": {},
     "output_type": "execute_result"
    }
   ],
   "source": [
    "predictions"
   ]
  },
  {
   "cell_type": "code",
   "execution_count": 16,
   "metadata": {},
   "outputs": [
    {
     "data": {
      "text/plain": [
       "array([6, 4, 2, 3, 2, 4, 3, 4, 3, 5, 6, 4, 3, 4, 3, 4, 6, 6, 4, 5, 3, 5,\n",
       "       3, 2, 3, 2, 4, 5, 4, 3, 3, 6, 6, 2, 5, 4, 4, 4, 4, 4, 4, 6, 6, 4,\n",
       "       2, 3, 5, 2, 2, 6, 6, 5, 3, 3, 5, 6])"
      ]
     },
     "execution_count": 16,
     "metadata": {},
     "output_type": "execute_result"
    }
   ],
   "source": [
    "true_labels"
   ]
  },
  {
   "cell_type": "code",
   "execution_count": 25,
   "metadata": {},
   "outputs": [],
   "source": [
    "plotdf = pd.DataFrame.from_dict({'True Label':true_labels, 'Predictions':predictions})\n",
    "plotdf.Predictions = plotdf.Predictions.astype('category')"
   ]
  },
  {
   "cell_type": "code",
   "execution_count": 20,
   "metadata": {},
   "outputs": [],
   "source": []
  },
  {
   "cell_type": "code",
   "execution_count": 27,
   "metadata": {},
   "outputs": [
    {
     "data": {
      "text/plain": [
       "<matplotlib.axes._subplots.AxesSubplot at 0x208655edf48>"
      ]
     },
     "execution_count": 27,
     "metadata": {},
     "output_type": "execute_result"
    },
    {
     "data": {
      "image/png": "[encoded data removed]",
      "text/plain": [
       "<Figure size 432x288 with 1 Axes>"
      ]
     },
     "metadata": {
      "needs_background": "light"
     },
     "output_type": "display_data"
    }
   ],
   "source": [
    "plotdf.boxplot(column = 'Predictions',by='True Label')"
   ]
  },
  {
   "cell_type": "code",
   "execution_count": 36,
   "metadata": {},
   "outputs": [
    {
     "data": {
      "text/plain": [
       "Text(0.5, 0, 'Predicted Value')"
      ]
     },
     "execution_count": 36,
     "metadata": {},
     "output_type": "execute_result"
    },
    {
     "data": {
      "image/png": "[encoded data removed]",
      "text/plain": [
       "<Figure size 1920x1280 with 1 Axes>"
      ]
     },
     "metadata": {
      "needs_background": "light"
     },
     "output_type": "display_data"
    }
   ],
   "source": [
    "fig, ax = plt.subplots(dpi=320)\n",
    "plotdf.boxplot(column = 'Predictions',by='True Label', ax=ax,  vert=False)\n",
    "fig.suptitle('')\n",
    "ax.set_ylabel(\"True label\")\n",
    "ax.set_xlabel(\"Predicted Value\")"
   ]
  },
  {
   "cell_type": "code",
   "execution_count": 37,
   "metadata": {},
   "outputs": [],
   "source": [
    "fig.savefig('boxplot.png')"
   ]
  },
  {
   "cell_type": "code",
   "execution_count": null,
   "metadata": {},
   "outputs": [],
   "source": []
  },
  {
   "cell_type": "code",
   "execution_count": null,
   "metadata": {},
   "outputs": [],
   "source": []
  },
  {
   "cell_type": "code",
   "execution_count": null,
   "metadata": {},
   "outputs": [],
   "source": []
  },
  {
   "cell_type": "code",
   "execution_count": 79,
   "metadata": {},
   "outputs": [
    {
     "data": {
      "text/plain": [
       "ERROR: Failed to launch TensorBoard (exited with 2).\n",
       "Contents of stderr:\n",
       "2020-02-13 00:49:54.267359: I tensorflow/stream_executor/platform/default/dso_loader.cc:44] Successfully opened dynamic library cudart64_100.dll\n",
       "usage: tensorboard [-h] [--helpfull] [--logdir PATH] [--logdir_spec PATH_SPEC]\n",
       "                   [--host ADDR] [--bind_all] [--port PORT]\n",
       "                   [--purge_orphaned_data BOOL] [--db URI] [--db_import]\n",
       "                   [--inspect] [--version_tb] [--tag TAG] [--event_file PATH]\n",
       "                   [--path_prefix PATH] [--window_title TEXT]\n",
       "                   [--max_reload_threads COUNT] [--reload_interval SECONDS]\n",
       "                   [--reload_task TYPE] [--reload_multifile BOOL]\n",
       "                   [--reload_multifile_inactive_secs SECONDS]\n",
       "                   [--generic_data TYPE]\n",
       "                   [--samples_per_plugin SAMPLES_PER_PLUGIN]\n",
       "                   [--debugger_data_server_grpc_port PORT]\n",
       "                   [--debugger_port PORT] [--master_tpu_unsecure_channel ADDR]\n",
       "tensorboard: error: unrecognized arguments: - The University of MelbourneDatasettfblogs"
      ]
     },
     "metadata": {},
     "output_type": "display_data"
    }
   ],
   "source": [
    "%load_ext tensorboard\n",
    "%tensorboard --logdir C:\\Users\\feroc\\OneDrive - The University of Melbourne\\Dataset\\tfb\\logs"
   ]
  },
  {
   "cell_type": "code",
   "execution_count": null,
   "metadata": {},
   "outputs": [],
   "source": []
  },
  {
   "cell_type": "code",
   "execution_count": null,
   "metadata": {},
   "outputs": [],
   "source": []
  },
  {
   "cell_type": "code",
   "execution_count": null,
   "metadata": {},
   "outputs": [],
   "source": []
  },
  {
   "cell_type": "code",
   "execution_count": null,
   "metadata": {},
   "outputs": [],
   "source": []
  },
  {
   "cell_type": "code",
   "execution_count": null,
   "metadata": {},
   "outputs": [],
   "source": []
  },
  {
   "cell_type": "code",
   "execution_count": null,
   "metadata": {},
   "outputs": [],
   "source": []
  },
  {
   "cell_type": "code",
   "execution_count": null,
   "metadata": {},
   "outputs": [],
   "source": []
  },
  {
   "cell_type": "code",
   "execution_count": 9,
   "metadata": {
    "collapsed": true,
    "jupyter": {
     "outputs_hidden": true
    }
   },
   "outputs": [
    {
     "name": "stdout",
     "output_type": "stream",
     "text": [
      "Found 20 validated image filenames.\n"
     ]
    },
    {
     "ename": "InvalidArgumentError",
     "evalue": "cannot compute Equal as input #1(zero-based) was expected to be a int32 tensor but is a float tensor [Op:Equal]",
     "output_type": "error",
     "traceback": [
      "\u001b[1;31m---------------------------------------------------------------------------\u001b[0m",
      "\u001b[1;31mInvalidArgumentError\u001b[0m                      Traceback (most recent call last)",
      "\u001b[1;32m<ipython-input-9-6b33651bb700>\u001b[0m in \u001b[0;36m<module>\u001b[1;34m\u001b[0m\n\u001b[0;32m     28\u001b[0m \u001b[0my_true\u001b[0m \u001b[1;33m=\u001b[0m \u001b[0mbatch\u001b[0m\u001b[1;33m[\u001b[0m\u001b[1;36m1\u001b[0m\u001b[1;33m]\u001b[0m\u001b[1;33m\u001b[0m\u001b[1;33m\u001b[0m\u001b[0m\n\u001b[0;32m     29\u001b[0m \u001b[0my_pred\u001b[0m \u001b[1;33m=\u001b[0m \u001b[0mmodel\u001b[0m\u001b[1;33m.\u001b[0m\u001b[0mpredict\u001b[0m\u001b[1;33m(\u001b[0m\u001b[0mbatch\u001b[0m\u001b[1;33m[\u001b[0m\u001b[1;36m0\u001b[0m\u001b[1;33m]\u001b[0m\u001b[1;33m)\u001b[0m\u001b[1;33m\u001b[0m\u001b[1;33m\u001b[0m\u001b[0m\n\u001b[1;32m---> 30\u001b[1;33m \u001b[0mprint\u001b[0m\u001b[1;33m(\u001b[0m\u001b[0msoft_acc\u001b[0m\u001b[1;33m(\u001b[0m\u001b[0my_true\u001b[0m\u001b[1;33m,\u001b[0m\u001b[0my_pred\u001b[0m\u001b[1;33m)\u001b[0m\u001b[1;33m)\u001b[0m\u001b[1;33m\u001b[0m\u001b[1;33m\u001b[0m\u001b[0m\n\u001b[0m\u001b[0;32m     31\u001b[0m \u001b[1;33m\u001b[0m\u001b[0m\n\u001b[0;32m     32\u001b[0m \u001b[1;31m# print examples from the validation set\u001b[0m\u001b[1;33m\u001b[0m\u001b[1;33m\u001b[0m\u001b[1;33m\u001b[0m\u001b[0m\n",
      "\u001b[1;32m<ipython-input-1-d8d80c023a6a>\u001b[0m in \u001b[0;36msoft_acc\u001b[1;34m(y_true, y_pred)\u001b[0m\n\u001b[0;32m     89\u001b[0m \u001b[1;33m\u001b[0m\u001b[0m\n\u001b[0;32m     90\u001b[0m \u001b[1;32mdef\u001b[0m \u001b[0msoft_acc\u001b[0m\u001b[1;33m(\u001b[0m\u001b[0my_true\u001b[0m\u001b[1;33m,\u001b[0m \u001b[0my_pred\u001b[0m\u001b[1;33m)\u001b[0m\u001b[1;33m:\u001b[0m\u001b[1;33m\u001b[0m\u001b[1;33m\u001b[0m\u001b[0m\n\u001b[1;32m---> 91\u001b[1;33m     \u001b[1;32mreturn\u001b[0m \u001b[0mK\u001b[0m\u001b[1;33m.\u001b[0m\u001b[0mmean\u001b[0m\u001b[1;33m(\u001b[0m\u001b[0mK\u001b[0m\u001b[1;33m.\u001b[0m\u001b[0mequal\u001b[0m\u001b[1;33m(\u001b[0m\u001b[0mK\u001b[0m\u001b[1;33m.\u001b[0m\u001b[0mround\u001b[0m\u001b[1;33m(\u001b[0m\u001b[0my_true\u001b[0m\u001b[1;33m)\u001b[0m\u001b[1;33m,\u001b[0m \u001b[0mK\u001b[0m\u001b[1;33m.\u001b[0m\u001b[0mround\u001b[0m\u001b[1;33m(\u001b[0m\u001b[0my_pred\u001b[0m\u001b[1;33m)\u001b[0m\u001b[1;33m)\u001b[0m\u001b[1;33m)\u001b[0m\u001b[1;33m\u001b[0m\u001b[1;33m\u001b[0m\u001b[0m\n\u001b[0m\u001b[0;32m     92\u001b[0m \u001b[1;33m\u001b[0m\u001b[0m\n\u001b[0;32m     93\u001b[0m \u001b[1;33m\u001b[0m\u001b[0m\n",
      "\u001b[1;32m~\\anaconda3\\envs\\tf\\lib\\site-packages\\tensorflow_core\\python\\keras\\backend.py\u001b[0m in \u001b[0;36mequal\u001b[1;34m(x, y)\u001b[0m\n\u001b[0;32m   2315\u001b[0m       \u001b[0mA\u001b[0m \u001b[0mbool\u001b[0m \u001b[0mtensor\u001b[0m\u001b[1;33m.\u001b[0m\u001b[1;33m\u001b[0m\u001b[1;33m\u001b[0m\u001b[0m\n\u001b[0;32m   2316\u001b[0m   \"\"\"\n\u001b[1;32m-> 2317\u001b[1;33m   \u001b[1;32mreturn\u001b[0m \u001b[0mmath_ops\u001b[0m\u001b[1;33m.\u001b[0m\u001b[0mequal\u001b[0m\u001b[1;33m(\u001b[0m\u001b[0mx\u001b[0m\u001b[1;33m,\u001b[0m \u001b[0my\u001b[0m\u001b[1;33m)\u001b[0m\u001b[1;33m\u001b[0m\u001b[1;33m\u001b[0m\u001b[0m\n\u001b[0m\u001b[0;32m   2318\u001b[0m \u001b[1;33m\u001b[0m\u001b[0m\n\u001b[0;32m   2319\u001b[0m \u001b[1;33m\u001b[0m\u001b[0m\n",
      "\u001b[1;32m~\\anaconda3\\envs\\tf\\lib\\site-packages\\tensorflow_core\\python\\util\\dispatch.py\u001b[0m in \u001b[0;36mwrapper\u001b[1;34m(*args, **kwargs)\u001b[0m\n\u001b[0;32m    178\u001b[0m     \u001b[1;34m\"\"\"Call target, and fall back on dispatchers if there is a TypeError.\"\"\"\u001b[0m\u001b[1;33m\u001b[0m\u001b[1;33m\u001b[0m\u001b[0m\n\u001b[0;32m    179\u001b[0m     \u001b[1;32mtry\u001b[0m\u001b[1;33m:\u001b[0m\u001b[1;33m\u001b[0m\u001b[1;33m\u001b[0m\u001b[0m\n\u001b[1;32m--> 180\u001b[1;33m       \u001b[1;32mreturn\u001b[0m \u001b[0mtarget\u001b[0m\u001b[1;33m(\u001b[0m\u001b[1;33m*\u001b[0m\u001b[0margs\u001b[0m\u001b[1;33m,\u001b[0m \u001b[1;33m**\u001b[0m\u001b[0mkwargs\u001b[0m\u001b[1;33m)\u001b[0m\u001b[1;33m\u001b[0m\u001b[1;33m\u001b[0m\u001b[0m\n\u001b[0m\u001b[0;32m    181\u001b[0m     \u001b[1;32mexcept\u001b[0m \u001b[1;33m(\u001b[0m\u001b[0mTypeError\u001b[0m\u001b[1;33m,\u001b[0m \u001b[0mValueError\u001b[0m\u001b[1;33m)\u001b[0m\u001b[1;33m:\u001b[0m\u001b[1;33m\u001b[0m\u001b[1;33m\u001b[0m\u001b[0m\n\u001b[0;32m    182\u001b[0m       \u001b[1;31m# Note: convert_to_eager_tensor currently raises a ValueError, not a\u001b[0m\u001b[1;33m\u001b[0m\u001b[1;33m\u001b[0m\u001b[1;33m\u001b[0m\u001b[0m\n",
      "\u001b[1;32m~\\anaconda3\\envs\\tf\\lib\\site-packages\\tensorflow_core\\python\\ops\\math_ops.py\u001b[0m in \u001b[0;36mequal\u001b[1;34m(x, y, name)\u001b[0m\n\u001b[0;32m   1303\u001b[0m     \u001b[0;31m`\u001b[0m\u001b[0mtf\u001b[0m\u001b[1;33m.\u001b[0m\u001b[0merrors\u001b[0m\u001b[1;33m.\u001b[0m\u001b[0mInvalidArgumentError\u001b[0m\u001b[0;31m`\u001b[0m\u001b[1;33m:\u001b[0m \u001b[0mIf\u001b[0m \u001b[0mshapes\u001b[0m \u001b[0mof\u001b[0m \u001b[0marguments\u001b[0m \u001b[0mare\u001b[0m \u001b[0mincompatible\u001b[0m\u001b[1;33m\u001b[0m\u001b[1;33m\u001b[0m\u001b[0m\n\u001b[0;32m   1304\u001b[0m   \"\"\"\n\u001b[1;32m-> 1305\u001b[1;33m   \u001b[1;32mreturn\u001b[0m \u001b[0mgen_math_ops\u001b[0m\u001b[1;33m.\u001b[0m\u001b[0mequal\u001b[0m\u001b[1;33m(\u001b[0m\u001b[0mx\u001b[0m\u001b[1;33m,\u001b[0m \u001b[0my\u001b[0m\u001b[1;33m,\u001b[0m \u001b[0mname\u001b[0m\u001b[1;33m=\u001b[0m\u001b[0mname\u001b[0m\u001b[1;33m)\u001b[0m\u001b[1;33m\u001b[0m\u001b[1;33m\u001b[0m\u001b[0m\n\u001b[0m\u001b[0;32m   1306\u001b[0m \u001b[1;33m\u001b[0m\u001b[0m\n\u001b[0;32m   1307\u001b[0m \u001b[1;33m\u001b[0m\u001b[0m\n",
      "\u001b[1;32m~\\anaconda3\\envs\\tf\\lib\\site-packages\\tensorflow_core\\python\\ops\\gen_math_ops.py\u001b[0m in \u001b[0;36mequal\u001b[1;34m(x, y, incompatible_shape_error, name)\u001b[0m\n\u001b[0;32m   3231\u001b[0m         \u001b[1;32mpass\u001b[0m  \u001b[1;31m# Add nodes to the TensorFlow graph.\u001b[0m\u001b[1;33m\u001b[0m\u001b[1;33m\u001b[0m\u001b[0m\n\u001b[0;32m   3232\u001b[0m     \u001b[1;32mexcept\u001b[0m \u001b[0m_core\u001b[0m\u001b[1;33m.\u001b[0m\u001b[0m_NotOkStatusException\u001b[0m \u001b[1;32mas\u001b[0m \u001b[0me\u001b[0m\u001b[1;33m:\u001b[0m\u001b[1;33m\u001b[0m\u001b[1;33m\u001b[0m\u001b[0m\n\u001b[1;32m-> 3233\u001b[1;33m       \u001b[0m_ops\u001b[0m\u001b[1;33m.\u001b[0m\u001b[0mraise_from_not_ok_status\u001b[0m\u001b[1;33m(\u001b[0m\u001b[0me\u001b[0m\u001b[1;33m,\u001b[0m \u001b[0mname\u001b[0m\u001b[1;33m)\u001b[0m\u001b[1;33m\u001b[0m\u001b[1;33m\u001b[0m\u001b[0m\n\u001b[0m\u001b[0;32m   3234\u001b[0m   \u001b[1;31m# Add nodes to the TensorFlow graph.\u001b[0m\u001b[1;33m\u001b[0m\u001b[1;33m\u001b[0m\u001b[1;33m\u001b[0m\u001b[0m\n\u001b[0;32m   3235\u001b[0m   \u001b[1;32mif\u001b[0m \u001b[0mincompatible_shape_error\u001b[0m \u001b[1;32mis\u001b[0m \u001b[1;32mNone\u001b[0m\u001b[1;33m:\u001b[0m\u001b[1;33m\u001b[0m\u001b[1;33m\u001b[0m\u001b[0m\n",
      "\u001b[1;32m~\\anaconda3\\envs\\tf\\lib\\site-packages\\tensorflow_core\\python\\framework\\ops.py\u001b[0m in \u001b[0;36mraise_from_not_ok_status\u001b[1;34m(e, name)\u001b[0m\n\u001b[0;32m   6604\u001b[0m   \u001b[0mmessage\u001b[0m \u001b[1;33m=\u001b[0m \u001b[0me\u001b[0m\u001b[1;33m.\u001b[0m\u001b[0mmessage\u001b[0m \u001b[1;33m+\u001b[0m \u001b[1;33m(\u001b[0m\u001b[1;34m\" name: \"\u001b[0m \u001b[1;33m+\u001b[0m \u001b[0mname\u001b[0m \u001b[1;32mif\u001b[0m \u001b[0mname\u001b[0m \u001b[1;32mis\u001b[0m \u001b[1;32mnot\u001b[0m \u001b[1;32mNone\u001b[0m \u001b[1;32melse\u001b[0m \u001b[1;34m\"\"\u001b[0m\u001b[1;33m)\u001b[0m\u001b[1;33m\u001b[0m\u001b[1;33m\u001b[0m\u001b[0m\n\u001b[0;32m   6605\u001b[0m   \u001b[1;31m# pylint: disable=protected-access\u001b[0m\u001b[1;33m\u001b[0m\u001b[1;33m\u001b[0m\u001b[1;33m\u001b[0m\u001b[0m\n\u001b[1;32m-> 6606\u001b[1;33m   \u001b[0msix\u001b[0m\u001b[1;33m.\u001b[0m\u001b[0mraise_from\u001b[0m\u001b[1;33m(\u001b[0m\u001b[0mcore\u001b[0m\u001b[1;33m.\u001b[0m\u001b[0m_status_to_exception\u001b[0m\u001b[1;33m(\u001b[0m\u001b[0me\u001b[0m\u001b[1;33m.\u001b[0m\u001b[0mcode\u001b[0m\u001b[1;33m,\u001b[0m \u001b[0mmessage\u001b[0m\u001b[1;33m)\u001b[0m\u001b[1;33m,\u001b[0m \u001b[1;32mNone\u001b[0m\u001b[1;33m)\u001b[0m\u001b[1;33m\u001b[0m\u001b[1;33m\u001b[0m\u001b[0m\n\u001b[0m\u001b[0;32m   6607\u001b[0m   \u001b[1;31m# pylint: enable=protected-access\u001b[0m\u001b[1;33m\u001b[0m\u001b[1;33m\u001b[0m\u001b[1;33m\u001b[0m\u001b[0m\n\u001b[0;32m   6608\u001b[0m \u001b[1;33m\u001b[0m\u001b[0m\n",
      "\u001b[1;32m~\\anaconda3\\envs\\tf\\lib\\site-packages\\six.py\u001b[0m in \u001b[0;36mraise_from\u001b[1;34m(value, from_value)\u001b[0m\n",
      "\u001b[1;31mInvalidArgumentError\u001b[0m: cannot compute Equal as input #1(zero-based) was expected to be a int32 tensor but is a float tensor [Op:Equal]"
     ]
    },
    {
     "data": {
      "image/png": "[encoded data removed]",
      "text/plain": [
       "<Figure size 480x320 with 1 Axes>"
      ]
     },
     "metadata": {
      "needs_background": "light"
     },
     "output_type": "display_data"
    }
   ],
   "source": [
    "data_gen = ImageDataGenerator(\n",
    "    rotation_range=5,\n",
    "    fill_mode=\"reflect\",\n",
    "    horizontal_flip=True,\n",
    "    rescale=1.0 / 255.0,\n",
    "    zoom_range=0.1,\n",
    ")\n",
    "\n",
    "\n",
    "validation_set = data_gen.flow_from_dataframe(\n",
    "    dataframe=response[:20],\n",
    "    directory=DATADIR,\n",
    "    x_col=\"GreenID\",\n",
    "    y_col=\"Grade\",\n",
    "    target_size=(224,224),\n",
    "    color_mode='rgb',\n",
    "    batch_size = 28,\n",
    "    class_mode='raw',\n",
    "    subset = \"training\",\n",
    "    shuffle=True,\n",
    "#     class_mode = \"sparse\"\n",
    ")\n",
    "\n",
    "\n",
    "fig, ax = plt.subplots(dpi=80)\n",
    "batch = next(validation_set)\n",
    "\n",
    "y_true = batch[1]\n",
    "y_pred = model.predict(batch[0])\n",
    "print(soft_acc(y_true,y_pred))\n",
    "\n",
    "# print examples from the validation set\n",
    "for i in range(len(batch[1])):\n",
    "    img = batch[0][i]\n",
    "    label = batch[1][i]\n",
    "    plt.imshow(img)\n",
    "    plt.show()\n",
    "    print(f\"true label: {label}; rounded pred: {model.predict(img.reshape(-1,224, 224, 3))}\")"
   ]
  },
  {
   "cell_type": "code",
   "execution_count": 11,
   "metadata": {},
   "outputs": [
    {
     "data": {
      "text/plain": [
       "array([[3.2390153],\n",
       "       [3.0811794],\n",
       "       [2.697922 ],\n",
       "       [2.8569453],\n",
       "       [2.5897331],\n",
       "       [3.164951 ],\n",
       "       [2.6220903],\n",
       "       [2.6035929],\n",
       "       [3.474424 ],\n",
       "       [2.9674406],\n",
       "       [2.7657166],\n",
       "       [2.6560912],\n",
       "       [2.841415 ],\n",
       "       [2.780675 ],\n",
       "       [2.8443027],\n",
       "       [2.4560614],\n",
       "       [2.4147856],\n",
       "       [3.0213516],\n",
       "       [2.4486613],\n",
       "       [2.543878 ]], dtype=float32)"
      ]
     },
     "execution_count": 11,
     "metadata": {},
     "output_type": "execute_result"
    }
   ],
   "source": [
    "y_pred"
   ]
  },
  {
   "cell_type": "code",
   "execution_count": null,
   "metadata": {},
   "outputs": [],
   "source": []
  }
 ],
 "metadata": {
  "kernelspec": {
   "display_name": "Python 3",
   "language": "python",
   "name": "python3"
  },
  "language_info": {
   "codemirror_mode": {
    "name": "ipython",
    "version": 3
   },
   "file_extension": ".py",
   "mimetype": "text/x-python",
   "name": "python",
   "nbconvert_exporter": "python",
   "pygments_lexer": "ipython3",
   "version": "3.7.7"
  },
  "latex_envs": {
   "LaTeX_envs_menu_present": true,
   "autoclose": true,
   "autocomplete": true,
   "bibliofile": "biblio.bib",
   "cite_by": "apalike",
   "current_citInitial": 1,
   "eqLabelWithNumbers": true,
   "eqNumInitial": 1,
   "hotkeys": {
    "equation": "Ctrl-E",
    "itemize": "Ctrl-I"
   },
   "labels_anchors": false,
   "latex_user_defs": false,
   "report_style_numbering": false,
   "user_envs_cfg": false
  },
  "varInspector": {
   "cols": {
    "lenName": 16,
    "lenType": 16,
    "lenVar": 40
   },
   "kernels_config": {
    "python": {
     "delete_cmd_postfix": "",
     "delete_cmd_prefix": "del ",
     "library": "var_list.py",
     "varRefreshCmd": "print(var_dic_list())"
    },
    "r": {
     "delete_cmd_postfix": ") ",
     "delete_cmd_prefix": "rm(",
     "library": "var_list.r",
     "varRefreshCmd": "cat(var_dic_list()) "
    }
   },
   "types_to_exclude": [
    "module",
    "function",
    "builtin_function_or_method",
    "instance",
    "_Feature"
   ],
   "window_display": false
  }
 },
 "nbformat": 4,
 "nbformat_minor": 4
}
