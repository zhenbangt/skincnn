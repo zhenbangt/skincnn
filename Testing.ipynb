{
 "cells": [
  {
   "cell_type": "code",
   "execution_count": 2,
   "metadata": {
    "ExecuteTime": {
     "end_time": "2020-01-21T08:15:58.291150Z",
     "start_time": "2020-01-21T08:15:58.055770Z"
    }
   },
   "outputs": [],
   "source": [
    "import tensorflow as tf\n",
    "mnist = tf.keras.datasets.mnist\n",
    "\n",
    "(train_images, train_labels), (test_images, test_labels) = mnist.load_data()"
   ]
  },
  {
   "cell_type": "code",
   "execution_count": 4,
   "metadata": {},
   "outputs": [
    {
     "data": {
      "image/png": "[encoded data removed]",
      "text/plain": [
       "<Figure size 432x288 with 1 Axes>"
      ]
     },
     "metadata": {
      "needs_background": "light"
     },
     "output_type": "display_data"
    }
   ],
   "source": [
    "import matplotlib.pyplot as plt\n",
    "plt.imshow(train_images[0] ,cmap='gray')\n",
    "plt.show()"
   ]
  },
  {
   "cell_type": "code",
   "execution_count": 5,
   "metadata": {},
   "outputs": [
    {
     "data": {
      "text/plain": [
       "(60000, 28, 28)"
      ]
     },
     "execution_count": 5,
     "metadata": {},
     "output_type": "execute_result"
    }
   ],
   "source": [
    "train_images.shape"
   ]
  },
  {
   "cell_type": "code",
   "execution_count": 6,
   "metadata": {
    "ExecuteTime": {
     "end_time": "2020-01-21T08:17:11.983137Z",
     "start_time": "2020-01-21T08:16:28.077992Z"
    }
   },
   "outputs": [],
   "source": [
    "# reshape and rescale data for the CNN\n",
    "\n",
    "train_images = train_images.reshape(-1, 28, 28, 1)\n",
    "\n",
    "test_images = test_images.reshape(-1, 28, 28, 1)\n",
    "\n",
    "train_images, test_images = train_images/255, test_images/255"
   ]
  },
  {
   "cell_type": "code",
   "execution_count": 7,
   "metadata": {},
   "outputs": [
    {
     "data": {
      "image/png": "[encoded data removed]",
      "text/plain": [
       "<Figure size 432x288 with 1 Axes>"
      ]
     },
     "metadata": {
      "needs_background": "light"
     },
     "output_type": "display_data"
    }
   ],
   "source": [
    "plt.imshow(train_images[0].reshape(28,28) ,cmap='gray')\n",
    "plt.show()\n",
    "# this is it"
   ]
  },
  {
   "cell_type": "code",
   "execution_count": 9,
   "metadata": {},
   "outputs": [],
   "source": [
    "model = tf.keras.Sequential([\n",
    "    tf.keras.layers.Conv2D(32, (3,3), activation='relu', input_shape=(28,28,1)),\n",
    "    tf.keras.layers.Conv2D(64, (3,3), activation='relu'),\n",
    "    tf.keras.layers.MaxPooling2D(2,2),\n",
    "    tf.keras.layers.Dropout(0.25),\n",
    "    tf.keras.layers.Flatten(),\n",
    "    tf.keras.layers.Dense(128, activation='relu'),\n",
    "    tf.keras.layers.Dropout(0.5),\n",
    "    tf.keras.layers.Dense(10, activation='softmax')\n",
    "])\n",
    "model.compile(optimizer='adam', loss='sparse_categorical_crossentropy', metrics=['accuracy'])"
   ]
  },
  {
   "cell_type": "code",
   "execution_count": 10,
   "metadata": {},
   "outputs": [],
   "source": [
    "tensor_board = tf.keras.callbacks.TensorBoard(r'C:\\Users\\feroc\\OneDrive - The University of Melbourne\\Dataset\\tfb\\logs\\LeNet-MNIST-1') "
   ]
  },
  {
   "cell_type": "code",
   "execution_count": 11,
   "metadata": {},
   "outputs": [
    {
     "name": "stdout",
     "output_type": "stream",
     "text": [
      "Train on 60000 samples, validate on 10000 samples\n",
      "Epoch 1/15\n",
      "60000/60000 [==============================] - 4s 71us/sample - loss: 0.2595 - accuracy: 0.9217 - val_loss: 0.0553 - val_accuracy: 0.9818\n",
      "Epoch 2/15\n",
      "60000/60000 [==============================] - 2s 39us/sample - loss: 0.0880 - accuracy: 0.9739 - val_loss: 0.0386 - val_accuracy: 0.9874\n",
      "Epoch 3/15\n",
      "60000/60000 [==============================] - 2s 38us/sample - loss: 0.0650 - accuracy: 0.9804 - val_loss: 0.0318 - val_accuracy: 0.9890\n",
      "Epoch 4/15\n",
      "60000/60000 [==============================] - 2s 38us/sample - loss: 0.0530 - accuracy: 0.9841 - val_loss: 0.0301 - val_accuracy: 0.9901\n",
      "Epoch 5/15\n",
      "60000/60000 [==============================] - 2s 38us/sample - loss: 0.0467 - accuracy: 0.9851 - val_loss: 0.0307 - val_accuracy: 0.9898\n",
      "Epoch 6/15\n",
      "60000/60000 [==============================] - 2s 38us/sample - loss: 0.0402 - accuracy: 0.9874 - val_loss: 0.0313 - val_accuracy: 0.9906\n",
      "Epoch 7/15\n",
      "60000/60000 [==============================] - 2s 39us/sample - loss: 0.0357 - accuracy: 0.9887 - val_loss: 0.0344 - val_accuracy: 0.9897\n",
      "Epoch 8/15\n",
      "60000/60000 [==============================] - 2s 39us/sample - loss: 0.0327 - accuracy: 0.9900 - val_loss: 0.0275 - val_accuracy: 0.9925\n",
      "Epoch 9/15\n",
      "60000/60000 [==============================] - 2s 39us/sample - loss: 0.0297 - accuracy: 0.9902 - val_loss: 0.0267 - val_accuracy: 0.9931\n",
      "Epoch 10/15\n",
      "60000/60000 [==============================] - 2s 38us/sample - loss: 0.0246 - accuracy: 0.9919 - val_loss: 0.0328 - val_accuracy: 0.9905\n",
      "Epoch 11/15\n",
      "60000/60000 [==============================] - 2s 40us/sample - loss: 0.0233 - accuracy: 0.9921 - val_loss: 0.0304 - val_accuracy: 0.9917\n",
      "Epoch 12/15\n",
      "60000/60000 [==============================] - 2s 39us/sample - loss: 0.0232 - accuracy: 0.9923 - val_loss: 0.0276 - val_accuracy: 0.9921\n",
      "Epoch 13/15\n",
      "60000/60000 [==============================] - 2s 39us/sample - loss: 0.0225 - accuracy: 0.9929 - val_loss: 0.0325 - val_accuracy: 0.9919\n",
      "Epoch 14/15\n",
      "60000/60000 [==============================] - 2s 38us/sample - loss: 0.0205 - accuracy: 0.9932 - val_loss: 0.0304 - val_accuracy: 0.9928\n",
      "Epoch 15/15\n",
      "60000/60000 [==============================] - 2s 38us/sample - loss: 0.0185 - accuracy: 0.9939 - val_loss: 0.0297 - val_accuracy: 0.9916\n",
      "Training took 36.81448936462402 seconds\n"
     ]
    }
   ],
   "source": [
    "import time\n",
    "\n",
    "start_time=time.time()\n",
    "\n",
    "model.fit(train_images, train_labels, batch_size=128, epochs=15, verbose=1,\n",
    "         validation_data=(test_images, test_labels), callbacks=[tensor_board])\n",
    "\n",
    "print('Training took {} seconds'.format(time.time()-start_time))"
   ]
  },
  {
   "cell_type": "code",
   "execution_count": null,
   "metadata": {},
   "outputs": [],
   "source": [
    "# tensorboard --logdir=./tfb/logs --port 6006"
   ]
  },
  {
   "cell_type": "code",
   "execution_count": 1,
   "metadata": {},
   "outputs": [],
   "source": [
    "import numpy as np\n",
    "im = np.zeros((2, 3, 2, 3), dtype=int)\n",
    "\n",
    "r = np.arange(im.size)[:, None]\n",
    "s = np.array(im.shape)"
   ]
  },
  {
   "cell_type": "code",
   "execution_count": 9,
   "metadata": {},
   "outputs": [
    {
     "data": {
      "text/plain": [
       "array([[ 0,  1,  2,  3,  4,  5,  6,  7,  8,  9, 10, 11, 12, 13, 14, 15,\n",
       "        16, 17, 18, 19, 20, 21, 22, 23, 24, 25, 26, 27, 28, 29, 30, 31,\n",
       "        32, 33, 34, 35]])"
      ]
     },
     "execution_count": 9,
     "metadata": {},
     "output_type": "execute_result"
    }
   ],
   "source": [
    "np.arange(im.size)[None,:]"
   ]
  }
 ],
 "metadata": {
  "kernelspec": {
   "display_name": "Python 3",
   "language": "python",
   "name": "python3"
  },
  "language_info": {
   "codemirror_mode": {
    "name": "ipython",
    "version": 3
   },
   "file_extension": ".py",
   "mimetype": "text/x-python",
   "name": "python",
   "nbconvert_exporter": "python",
   "pygments_lexer": "ipython3",
   "version": "3.7.6"
  },
  "latex_envs": {
   "LaTeX_envs_menu_present": true,
   "autoclose": true,
   "autocomplete": true,
   "bibliofile": "biblio.bib",
   "cite_by": "apalike",
   "current_citInitial": 1,
   "eqLabelWithNumbers": true,
   "eqNumInitial": 1,
   "hotkeys": {
    "equation": "Ctrl-E",
    "itemize": "Ctrl-I"
   },
   "labels_anchors": false,
   "latex_user_defs": false,
   "report_style_numbering": false,
   "user_envs_cfg": false
  },
  "varInspector": {
   "cols": {
    "lenName": 16,
    "lenType": 16,
    "lenVar": 40
   },
   "kernels_config": {
    "python": {
     "delete_cmd_postfix": "",
     "delete_cmd_prefix": "del ",
     "library": "var_list.py",
     "varRefreshCmd": "print(var_dic_list())"
    },
    "r": {
     "delete_cmd_postfix": ") ",
     "delete_cmd_prefix": "rm(",
     "library": "var_list.r",
     "varRefreshCmd": "cat(var_dic_list()) "
    }
   },
   "types_to_exclude": [
    "module",
    "function",
    "builtin_function_or_method",
    "instance",
    "_Feature"
   ],
   "window_display": false
  }
 },
 "nbformat": 4,
 "nbformat_minor": 4
}
